{
 "cells": [
  {
   "cell_type": "code",
   "execution_count": 1,
   "metadata": {},
   "outputs": [
    {
     "name": "stderr",
     "output_type": "stream",
     "text": [
      "C:\\Tools\\Anaconda3\\lib\\site-packages\\h5py\\__init__.py:36: FutureWarning: Conversion of the second argument of issubdtype from `float` to `np.floating` is deprecated. In future, it will be treated as `np.float64 == np.dtype(float).type`.\n",
      "  from ._conv import register_converters as _register_converters\n",
      "Using TensorFlow backend.\n"
     ]
    }
   ],
   "source": [
    "import pandas as pd\n",
    "import numpy as np\n",
    "import matplotlib\n",
    "import matplotlib.pyplot as plt\n",
    "import seaborn as sns\n",
    "from fancyimpute import mice\n",
    "from fancyimpute import KNN, NuclearNormMinimization, SoftImpute, IterativeImputer, BiScaler\n",
    "from sklearn.preprocessing import Imputer\n",
    "from xgboost import XGBRegressor\n",
    "from sklearn.model_selection import GridSearchCV\n",
    "import math\n",
    "import sklearn.metrics as sklm\n",
    "from sklearn.feature_selection import VarianceThreshold\n",
    "from sklearn.feature_selection import RFECV\n",
    "from sklearn.ensemble import RandomForestRegressor\n",
    "from sklearn.decomposition import PCA"
   ]
  },
  {
   "cell_type": "code",
   "execution_count": 2,
   "metadata": {},
   "outputs": [
    {
     "data": {
      "text/plain": [
       "(1401, 18)"
      ]
     },
     "execution_count": 2,
     "metadata": {},
     "output_type": "execute_result"
    }
   ],
   "source": [
    "df_train_x = pd.read_csv('../data/train_new.csv')\n",
    "df_train_x.shape"
   ]
  },
  {
   "cell_type": "markdown",
   "metadata": {},
   "source": [
    "# PCA"
   ]
  },
  {
   "cell_type": "code",
   "execution_count": 4,
   "metadata": {},
   "outputs": [
    {
     "name": "stdout",
     "output_type": "stream",
     "text": [
      "單位向量: [[ 5.51492847e-02 -3.93335663e-05  4.25221111e-06 -1.08029084e-03\n",
      "   9.98477082e-01 -1.09348632e-04  1.31610589e-05  1.55733812e-04\n",
      "   5.26803728e-04 -3.64932440e-04  4.12175475e-04 -2.09872086e-04\n",
      "   2.68384750e-04 -3.38395170e-04  2.20453207e-05  6.81199528e-06\n",
      "  -2.38799118e-04]\n",
      " [ 9.98464372e-01 -9.22613053e-05  2.98059744e-05  4.90115055e-03\n",
      "  -5.51449847e-02 -3.89751287e-04  5.13156822e-04  6.77229523e-04\n",
      "   7.62933441e-04 -3.37624770e-04  9.82563117e-04 -5.13573214e-04\n",
      "   4.58176292e-04 -6.44032730e-04  2.32285908e-05  1.27354225e-06\n",
      "  -6.87969654e-04]\n",
      " [-4.97526306e-03 -2.91682438e-03 -2.42473243e-03  9.96127246e-01\n",
      "   1.29133198e-03 -1.50298440e-02  5.11571434e-02  2.23935478e-02\n",
      "   1.66046119e-02 -2.05392387e-02  2.96808479e-02 -2.95571914e-02\n",
      "   1.40326154e-02 -2.85808982e-02  7.41082374e-04  4.92264554e-04\n",
      "  -2.96404044e-02]\n",
      " [ 1.50751571e-03  3.13584941e-02  2.31088535e-02  6.38923888e-02\n",
      "   9.25769847e-04  1.80849521e-01 -5.69655090e-04 -2.29925856e-01\n",
      "  -5.60263665e-01  4.13560968e-01 -3.93033090e-01  2.20339232e-01\n",
      "  -1.81832856e-01  3.78765258e-01 -1.03038535e-02 -1.76556085e-03\n",
      "   2.10324644e-01]\n",
      " [ 3.62975274e-04  2.30800008e-02  1.26702215e-02  2.06962065e-02\n",
      "  -1.68072301e-05  3.30066570e-01  1.06937300e-01 -3.10393603e-01\n",
      "   6.22683859e-01 -3.01555902e-01 -2.64706481e-01  1.57984967e-01\n",
      "  -2.17259047e-02  4.05305991e-01  3.85868670e-03 -2.77252901e-04\n",
      "   2.09032894e-01]\n",
      " [ 8.69461279e-05 -4.55990514e-03 -2.75096167e-03 -1.57769065e-02\n",
      "  -2.96589191e-05  5.59716587e-01  2.32528906e-01  4.03125350e-02\n",
      "  -1.60581194e-01 -9.97155176e-02 -1.14219249e-01 -5.28413478e-01\n",
      "   3.06702257e-02 -3.82844742e-01  6.96298361e-03 -1.09917488e-03\n",
      "   3.93939682e-01]\n",
      " [-2.39921592e-04 -4.57792371e-03 -4.04476712e-03 -5.70215687e-03\n",
      "  -1.07264311e-04  5.93167101e-01 -2.55149357e-02 -2.63848509e-01\n",
      "  -9.80834028e-02  1.24480382e-01  5.55608845e-01  6.33104798e-02\n",
      "   1.62497032e-01  1.39645074e-01  5.26421561e-03  8.89777176e-04\n",
      "  -4.40518082e-01]\n",
      " [-3.63126688e-04  9.65030473e-03  1.27154906e-02 -4.87300908e-02\n",
      "  -4.47950491e-05 -6.62671179e-02  9.11297566e-01  9.11963676e-02\n",
      "   8.59441406e-02  2.33196798e-01 -8.19898312e-02  1.51563805e-01\n",
      "   2.23960867e-02 -6.04055116e-02  9.50232906e-03  7.07047219e-04\n",
      "  -2.41861124e-01]\n",
      " [-2.53327217e-04 -3.29556113e-02 -2.10887827e-02 -1.04311399e-02\n",
      "   6.87175395e-06  3.80340709e-02  3.34684573e-03  5.52772267e-01\n",
      "   6.34792025e-02  1.37274900e-01 -1.79984146e-03 -4.90709628e-01\n",
      "   8.05710613e-02  6.42028082e-01  1.05967514e-02 -1.38605819e-03\n",
      "  -9.41604754e-02]\n",
      " [-2.63821378e-06  2.45763438e-02  1.70403782e-02  1.58488988e-02\n",
      "   2.54930285e-05  3.51897844e-01 -3.06692677e-01  3.46408568e-01\n",
      "   2.85358043e-01  3.43946272e-01 -4.54193830e-01  1.87908941e-01\n",
      "  -2.55687380e-02 -3.21479477e-01 -6.38192123e-04 -5.30256124e-04\n",
      "  -3.40043371e-01]]\n",
      "降維後資料: (1401, 10)\n"
     ]
    },
    {
     "data": {
      "text/plain": [
       "array([[-7.95753635e+03, -1.44933554e+03, -1.57379211e+02, ...,\n",
       "         2.74296830e+00, -1.03018915e+01, -1.81933576e+00],\n",
       "       [-7.23012789e+03,  1.61190529e+03,  3.42680385e+01, ...,\n",
       "        -4.00443039e+00,  1.27568875e+01,  5.72560273e+00],\n",
       "       [ 6.59996936e+03, -1.60580419e+03, -8.67423416e+01, ...,\n",
       "        -1.24697817e+01, -7.21150876e+00, -1.61846486e+01],\n",
       "       ...,\n",
       "       [-5.95134230e+03, -3.65695768e+02,  2.66868309e+02, ...,\n",
       "        -7.19767826e+00, -1.64920861e+00,  9.19929962e+00],\n",
       "       [ 8.25170990e+03, -1.66959996e+03, -1.05724081e+02, ...,\n",
       "        -7.30516921e+00, -6.76745557e+00, -7.95007100e+00],\n",
       "       [-9.34356504e+03, -1.68259231e+03, -1.55813296e+02, ...,\n",
       "         6.59182185e+00,  1.73823850e+01, -4.23987826e+00]])"
      ]
     },
     "execution_count": 4,
     "metadata": {},
     "output_type": "execute_result"
    }
   ],
   "source": [
    "def pca_reduce(df):\n",
    "    pca = PCA(n_components=10)\n",
    "    pca = pca.fit(df)\n",
    "    \n",
    "    unit_vec = pca.components_ #得到投影之單位向量\n",
    "    print('單位向量:', unit_vec)\n",
    "    \n",
    "    reduced_data = pca.transform(df)\n",
    "    print('降維後資料:', reduced_data.shape)\n",
    "    \n",
    "    return reduced_data\n",
    "\n",
    "\n",
    "pca_reduce(df_train_x)"
   ]
  },
  {
   "cell_type": "markdown",
   "metadata": {},
   "source": [
    "--- \n",
    "# Modeling"
   ]
  },
  {
   "cell_type": "markdown",
   "metadata": {},
   "source": [
    "### random forest"
   ]
  },
  {
   "cell_type": "code",
   "execution_count": null,
   "metadata": {},
   "outputs": [],
   "source": [
    "\n",
    "def rf_modeling(trainX, trainY):\n",
    "    rf = RandomForestRegressor()\n",
    "    param_grid = { \n",
    "    'bootstrap': [True],\n",
    "    'max_depth': [80, 90, 100, 110],\n",
    "    'max_features': [2, 3],\n",
    "    'min_samples_leaf': [3, 4, 5],\n",
    "    'min_samples_split': [8, 10, 12],\n",
    "    'n_estimators': [100, 200, 300, 1000]\n",
    "    }\n",
    "\n",
    "    grid_rf = GridSearchCV(rf, param_grid, n_jobs=-1, cv=5)\n",
    "    forest_model = grid_rf.fit(trainX, trainY)\n",
    "    \n",
    "    return forest_model\n",
    "\n",
    "\n",
    "forest_model = rf_modeling(trainX, trainY)\n",
    "y_pred = forest_model.predict(testX)\n",
    "\n",
    "print('Root Mean Square Error = ' + str(math.sqrt(sklm.mean_squared_error(testY, y_pred))))"
   ]
  },
  {
   "cell_type": "markdown",
   "metadata": {},
   "source": [
    "### XGBoost"
   ]
  },
  {
   "cell_type": "code",
   "execution_count": null,
   "metadata": {},
   "outputs": [],
   "source": [
    "\n",
    "def xgb_modeling(trainX, trainY):\n",
    "    xgb_reg = XGBRegressor(n_estimators=100, max_depth=10,learning_rate=0.01,random_state=100,subsample=0.8)\n",
    "    params = {'min_child_weight':[4,5], 'gamma':[i/10.0 for i in range(3,6)],  'subsample':[i/10.0 for i in range(6,11)],\n",
    "              'colsample_bytree':[i/10.0 for i in range(6,11)], 'max_depth': [2,3,4]}\n",
    "    grid = GridSearchCV(xgb_reg, params,scoring='neg_mean_squared_error',cv=5)\n",
    "    \n",
    "    xgb_model = grid.fit(trainX, trainY)\n",
    "    return xgb_model\n",
    "\n",
    "\n",
    "xgb_model = xgb_modeling(trainX, trainY)\n",
    "y_pred = xgb_model.predict(testX)\n",
    "\n",
    "print('Root Mean Square Error = ' + str(math.sqrt(sklm.mean_squared_error(testY, y_pred))))"
   ]
  },
  {
   "cell_type": "code",
   "execution_count": null,
   "metadata": {},
   "outputs": [],
   "source": []
  },
  {
   "cell_type": "code",
   "execution_count": null,
   "metadata": {},
   "outputs": [],
   "source": []
  },
  {
   "cell_type": "code",
   "execution_count": null,
   "metadata": {},
   "outputs": [],
   "source": []
  },
  {
   "cell_type": "code",
   "execution_count": null,
   "metadata": {},
   "outputs": [],
   "source": []
  },
  {
   "cell_type": "code",
   "execution_count": null,
   "metadata": {},
   "outputs": [],
   "source": []
  }
 ],
 "metadata": {
  "kernelspec": {
   "display_name": "Python 3",
   "language": "python",
   "name": "python3"
  },
  "language_info": {
   "codemirror_mode": {
    "name": "ipython",
    "version": 3
   },
   "file_extension": ".py",
   "mimetype": "text/x-python",
   "name": "python",
   "nbconvert_exporter": "python",
   "pygments_lexer": "ipython3",
   "version": "3.6.5"
  }
 },
 "nbformat": 4,
 "nbformat_minor": 2
}
